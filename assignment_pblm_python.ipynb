{
 "cells": [
  {
   "cell_type": "code",
   "execution_count": 1,
   "id": "7278db0f-61ae-4379-91fc-66d2ff33bce0",
   "metadata": {},
   "outputs": [
    {
     "name": "stdout",
     "output_type": "stream",
     "text": [
      "17.1\n",
      "17.5\n"
     ]
    }
   ],
   "source": [
    "# question 1\n",
    "w= [12, 15, 14, 10, 18, 20, 22, 24, 17, 19]\n",
    "l= len(w)\n",
    "total=sum(w)\n",
    "wsort=sorted(w)\n",
    "if l % 2 == 0:\n",
    "    median_x= (wsort[l // 2 - 1] + wsort[l // 2]) / 2\n",
    "else:\n",
    "    median_x= wsort[l // 2]\n",
    "mean=total/l\n",
    "print(mean)\n",
    "print(median_x)\n",
    "\n"
   ]
  },
  {
   "cell_type": "code",
   "execution_count": 3,
   "id": "eb24d8c9-9680-4e06-9be3-19272ef7ff24",
   "metadata": {},
   "outputs": [
    {
     "name": "stdout",
     "output_type": "stream",
     "text": [
      "14\n",
      "17.5\n",
      "20\n"
     ]
    }
   ],
   "source": [
    "#question no 2\n",
    "w= [12, 15, 14, 10, 18, 20, 22, 24, 17, 19]\n",
    "l= len(w)\n",
    "total= sum(w)\n",
    "wsort= sorted(w)\n",
    "q1_ind= l//4\n",
    "q1=wsort[q1_ind]\n",
    "q3_ind=3*l//4\n",
    "q3=wsort[q3_ind]\n",
    "if l % 2 == 0:\n",
    "    median_x= (wsort[l // 2 - 1] + wsort[l // 2]) / 2\n",
    "else:\n",
    "    median_x= Wsort[l // 2]\n",
    "q2=median_x\n",
    "print(q1)\n",
    "print(q2)\n",
    "print(q3)\n"
   ]
  },
  {
   "cell_type": "code",
   "execution_count": 4,
   "id": "5e8f13c2-9412-4b62-b015-5f5fd9b3b7bb",
   "metadata": {},
   "outputs": [
    {
     "name": "stdout",
     "output_type": "stream",
     "text": [
      "6\n",
      "   SIGNIFICANCE OF IQR   \n",
      "1.It Can measure the spread of 50 % of the data \n",
      "2.We can find the Outliers\n"
     ]
    }
   ],
   "source": [
    "#question no 3\n",
    "w= [12, 15, 14, 10, 18, 20, 22, 24, 17, 19]\n",
    "l= len(w)\n",
    "total= sum(w)\n",
    "wsort= sorted(w)\n",
    "q1_ind= l//4\n",
    "q1=wsort[q1_ind]\n",
    "q3_ind=3*l//4\n",
    "q3=wsort[q3_ind]\n",
    "if l % 2 == 0:\n",
    "    median_x= (wsort[l // 2 - 1] + wsort[l // 2]) / 2\n",
    "else:\n",
    "    median_x= wsort[l // 2]\n",
    "q2=median_x\n",
    "IQR= q3 - q1\n",
    "print(IQR)\n",
    "print(\"   SIGNIFICANCE OF IQR   \")\n",
    "print(\"1.It Can measure the spread of 50 % of the data \\n2.We can find the Outliers\")"
   ]
  },
  {
   "cell_type": "code",
   "execution_count": 5,
   "id": "af614d21-a946-4bef-a70e-969913e9be57",
   "metadata": {},
   "outputs": [
    {
     "name": "stdout",
     "output_type": "stream",
     "text": [
      "10\n",
      "24\n"
     ]
    }
   ],
   "source": [
    "#question 4\n",
    "w= [12, 15, 14, 10, 18, 20, 22, 24, 17, 19]\n",
    "w_min= min(w)\n",
    "w_max= max(w)\n",
    "print(w_min)\n",
    "print(w_max)"
   ]
  },
  {
   "cell_type": "code",
   "execution_count": 7,
   "id": "48bf8c34-b6e3-49f1-afa2-4204906a2720",
   "metadata": {},
   "outputs": [
    {
     "name": "stdout",
     "output_type": "stream",
     "text": [
      "w sorted: [10, 12, 14, 15, 17, 18, 19, 20, 22, 24]\n",
      "5.0\n",
      "29.0\n"
     ]
    }
   ],
   "source": [
    "#question 5\n",
    "w= [12, 15, 14, 10, 18, 20, 22, 24, 17, 19]\n",
    "w_sort= sorted(w)\n",
    "print(\"w sorted:\",w_sort)\n",
    "q1_ind= l//4\n",
    "q1=wsort[q1_ind]\n",
    "q3_ind=3*l//4\n",
    "q3=wsort[q3_ind]\n",
    "LB= q1 -1.5*IQR\n",
    "UP= q3+ 1.5*IQR\n",
    "print(LB)\n",
    "print(UP)\n",
    "for i in w:\n",
    "    if i<LB or i>UP:\n",
    "        print(\"{i} is an outlier\")\n",
    "print(\"no outliers\")\n",
    "\n"
   ]
  },
  {
   "cell_type": "code",
   "execution_count": 16,
   "id": "a182dea0-cc44-4e8e-a92f-d5358883f393",
   "metadata": {},
   "outputs": [
    {
     "name": "stdout",
     "output_type": "stream",
     "text": [
      "w sorted: [10, 12, 14, 15, 17, 18, 19, 20, 22, 24]\n",
      "5.0\n",
      "29.0\n",
      "no outliers\n"
     ]
    }
   ],
   "source": [
    "#question 5\n",
    "w= [12, 15, 14, 10, 18, 20, 22, 24, 17, 19]\n",
    "w_sort= sorted(w)\n",
    "print(\"w sorted:\",w_sort)\n",
    "q1_ind= l//4\n",
    "q1=wsort[q1_ind]\n",
    "q3_ind=3*l//4\n",
    "q3=wsort[q3_ind]\n",
    "LB= q1 -1.5*IQR\n",
    "UP= q3+ 1.5*IQR\n",
    "print(LB)\n",
    "print(UP)\n",
    "for i in w:\n",
    "    if i<LB or i>UP:\n",
    "        print(f\"{i} is an outlier\")\n",
    "print(\"no outliers\")"
   ]
  },
  {
   "cell_type": "code",
   "execution_count": 28,
   "id": "15dfda59-6727-4aae-aade-2b0575dc0c83",
   "metadata": {},
   "outputs": [
    {
     "name": "stdout",
     "output_type": "stream",
     "text": [
      "w sorted: [10, 12, 14, 15, 17, 18, 19, 20, 22, 24]\n",
      "range=14\n",
      "17.1\n",
      "10 17.1 50.41000000000002\n",
      "12 17.1 26.010000000000016\n",
      "14 17.1 9.610000000000008\n",
      "15 17.1 4.410000000000006\n",
      "17 17.1 0.010000000000000285\n",
      "18 17.1 0.8099999999999974\n",
      "19 17.1 3.6099999999999945\n",
      "20 17.1 8.409999999999991\n",
      "22 17.1 24.009999999999987\n",
      "24 17.1 47.60999999999998\n",
      "variance=17.490000000000002\n",
      "std= 4.182104733265297\n"
     ]
    }
   ],
   "source": [
    "#question no 6\n",
    "import math\n",
    "w= [12, 15, 14, 10, 18, 20, 22, 24, 17, 19]\n",
    "w_sort= sorted(w)\n",
    "print(\"w sorted:\",w_sort)\n",
    "w_min= min(w)\n",
    "w_max= max(w)\n",
    "print(f\"range={w_max - w_min}\")\n",
    "l= len(w)\n",
    "total=sum(w)\n",
    "mean=total/l\n",
    "print(mean)\n",
    "summ=0\n",
    "for i in w_sort:\n",
    "    print(i, mean,(i-mean)**2)\n",
    "    summ=summ+(i-mean)**2\n",
    "var=summ/l\n",
    "std=math.sqrt(var)\n",
    "print(f\"variance={var}\")\n",
    "print(\"std=\",std)\n"
   ]
  },
  {
   "cell_type": "code",
   "execution_count": null,
   "id": "877e096b-1abc-4b61-a869-3c937b3f2ba5",
   "metadata": {},
   "outputs": [],
   "source": []
  }
 ],
 "metadata": {
  "kernelspec": {
   "display_name": "Python 3 (ipykernel)",
   "language": "python",
   "name": "python3"
  },
  "language_info": {
   "codemirror_mode": {
    "name": "ipython",
    "version": 3
   },
   "file_extension": ".py",
   "mimetype": "text/x-python",
   "name": "python",
   "nbconvert_exporter": "python",
   "pygments_lexer": "ipython3",
   "version": "3.9.13"
  }
 },
 "nbformat": 4,
 "nbformat_minor": 5
}
